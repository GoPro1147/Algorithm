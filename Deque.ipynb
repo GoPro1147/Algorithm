{
 "cells": [
  {
   "cell_type": "markdown",
   "metadata": {},
   "source": [
    "# 데크(Deque)"
   ]
  },
  {
   "cell_type": "markdown",
   "metadata": {},
   "source": [
    "스택(Stack)과 큐(Queue)의 결합체"
   ]
  },
  {
   "cell_type": "code",
   "execution_count": 2,
   "metadata": {},
   "outputs": [
    {
     "name": "stdout",
     "output_type": "stream",
     "text": [
      "데크(Deque)가 비었나요? True\n",
      "insert 0 to 9\n",
      "deque size 10\n",
      "peek: 0\n",
      "dequeue: 0\n",
      "peek: 1\n",
      "데크(Deque)가 비었나요? False\n",
      "\n",
      "deque : [9, 8, 7, 6, 5, 4, 3, 2, 1]\n",
      "dequeue: 9\n",
      "peek : 1\n",
      "deque : [8, 7, 6, 5, 4, 3, 2, 1]\n",
      "enqueue_back(50)\n",
      "peek : 50\n",
      "deque : [8, 7, 6, 5, 4, 3, 2, 1, 50]\n"
     ]
    }
   ],
   "source": [
    "class Queue(object):\n",
    "    def __init__(self):\n",
    "        self.items = []\n",
    "        \n",
    "    def isEmpty(self):\n",
    "        return not bool(self.items)\n",
    "    \n",
    "    def enqueue(self, item):\n",
    "        self.items.insert(0, item)\n",
    "        \n",
    "    def dequeue(self):\n",
    "        value = self.items.pop()\n",
    "        if value is not None:\n",
    "            return value\n",
    "        else:\n",
    "            print(\"Queue is empty!\")\n",
    "    \n",
    "    def size(self):\n",
    "        return len(self.items)\n",
    "    \n",
    "    def peek(self):\n",
    "        if self.items:\n",
    "            return self.items[-1]\n",
    "        else:\n",
    "            print(\"Queue is empty.\")\n",
    "            \n",
    "    def __repr__(self):\n",
    "        return repr(self.items)\n",
    "    \n",
    "class Deque(Queue):\n",
    "    def enqueue_back(self, item):\n",
    "        self.items.append(item)\n",
    "    \n",
    "    def dequeue_front(self):\n",
    "        value = self.items.pop(0)\n",
    "        if value is not None:\n",
    "            return value\n",
    "        else:\n",
    "            print(\"Deque is Empty!\")\n",
    "            \n",
    "\n",
    "if __name__ == \"__main__\":\n",
    "    deque = Deque()\n",
    "    print(\"데크(Deque)가 비었나요? {0}\".format(deque.isEmpty()))\n",
    "    print(\"insert 0 to 9\")\n",
    "    for i in range(10):\n",
    "        deque.enqueue(i)\n",
    "        \n",
    "    print(\"deque size {0}\".format(deque.size()))\n",
    "    print(\"peek: {0}\".format(deque.peek()))\n",
    "    print(\"dequeue: {0}\".format(deque.dequeue()))\n",
    "    print(\"peek: {0}\".format(deque.peek()))\n",
    "    print(\"데크(Deque)가 비었나요? {0}\".format(deque.isEmpty()))\n",
    "    print()\n",
    "    print(\"deque : {0}\".format(deque))\n",
    "    print(\"dequeue: {0}\".format(deque.dequeue_front()))\n",
    "    print(\"peek : {0}\".format(deque.peek()))\n",
    "    print(\"deque : {0}\".format(deque))\n",
    "    print(\"enqueue_back(50)\")\n",
    "    deque.enqueue_back(50)\n",
    "    print(\"peek : {0}\".format(deque.peek()))\n",
    "    print(\"deque : {0}\".format(deque))\n",
    "    "
   ]
  },
  {
   "cell_type": "markdown",
   "metadata": {},
   "source": [
    "## Collections 패키지 내의 deque"
   ]
  },
  {
   "cell_type": "code",
   "execution_count": 6,
   "metadata": {},
   "outputs": [
    {
     "name": "stdout",
     "output_type": "stream",
     "text": [
      "deque(['buffy', 'gender', 'willo'])\n",
      "deque(['buffy', 'gender', 'willo', 'jails'])\n",
      "buffy\n",
      "jails\n",
      "deque(['gender', 'willo'])\n",
      "deque(['angel', 'gender', 'willo'])\n",
      "rotate 1\n",
      "deque(['willo', 'angel', 'gender'])\n",
      "rotate 2\n",
      "deque(['angel', 'gender', 'willo'])\n",
      "rotate 3\n",
      "deque(['angel', 'gender', 'willo'])\n",
      "rotate 4\n",
      "deque(['willo', 'angel', 'gender'])\n",
      "rotate -1\n",
      "deque(['angel', 'gender', 'willo'])\n",
      "rotate -2\n",
      "deque(['willo', 'angel', 'gender'])\n"
     ]
    }
   ],
   "source": [
    "from collections import deque\n",
    "q = deque([\"buffy\", \"gender\", \"willo\"])\n",
    "print(q)\n",
    "\n",
    "q.append(\"jails\")\n",
    "print(q)\n",
    "\n",
    "print(q.popleft())\n",
    "print(q.pop())\n",
    "print(q)\n",
    "\n",
    "q.appendleft(\"angel\")\n",
    "print(q)\n",
    "\n",
    "print(\"rotate 1\")\n",
    "q.rotate(1)\n",
    "print(q)\n",
    "print(\"rotate 2\")\n",
    "q.rotate(2)\n",
    "print(q)\n",
    "print(\"rotate 3\")\n",
    "q.rotate(3)\n",
    "print(q)\n",
    "print(\"rotate 4\")\n",
    "q.rotate(4)\n",
    "print(q)\n",
    "print(\"rotate -1\")\n",
    "q.rotate(-1)\n",
    "print(q)\n",
    "print(\"rotate -2\")\n",
    "q.rotate(-2)\n",
    "print(q)"
   ]
  },
  {
   "cell_type": "code",
   "execution_count": null,
   "metadata": {},
   "outputs": [],
   "source": []
  }
 ],
 "metadata": {
  "kernelspec": {
   "display_name": "Python 3",
   "language": "python",
   "name": "python3"
  },
  "language_info": {
   "codemirror_mode": {
    "name": "ipython",
    "version": 3
   },
   "file_extension": ".py",
   "mimetype": "text/x-python",
   "name": "python",
   "nbconvert_exporter": "python",
   "pygments_lexer": "ipython3",
   "version": "3.8.3"
  }
 },
 "nbformat": 4,
 "nbformat_minor": 4
}
