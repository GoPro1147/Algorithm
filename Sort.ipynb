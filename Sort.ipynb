{
 "cells": [
  {
   "cell_type": "markdown",
   "metadata": {},
   "source": [
    "# 정렬"
   ]
  },
  {
   "cell_type": "markdown",
   "metadata": {},
   "source": [
    "## bubbleSort"
   ]
  },
  {
   "cell_type": "markdown",
   "metadata": {},
   "source": [
    "* 인접한 두 항목을 비교하여 정렬하는 방식\n",
    "* 시간복잡도 : $O(n^{2})$"
   ]
  },
  {
   "cell_type": "code",
   "execution_count": 3,
   "metadata": {},
   "outputs": [
    {
     "name": "stdout",
     "output_type": "stream",
     "text": [
      "[11, 3, 28, 43, 9, 4]\n",
      "[3, 4, 9, 11, 28, 43]\n"
     ]
    }
   ],
   "source": [
    "def bubbleSort(li):\n",
    "    length = len(li)\n",
    "    for i in range(length):\n",
    "        for j in range(length - i - 1):\n",
    "            if li[j] > li[j + 1]:\n",
    "                li[j], li[j + 1] = li[j + 1], li[j]\n",
    "    return li\n",
    "\n",
    "\n",
    "li = [11, 3, 28, 43, 9, 4]\n",
    "print(li)\n",
    "print(bubbleSort(li))"
   ]
  },
  {
   "cell_type": "markdown",
   "metadata": {},
   "source": [
    "## selectSort"
   ]
  },
  {
   "cell_type": "markdown",
   "metadata": {},
   "source": [
    "* 리스트에서 가장 큰(아니면 작은) 항목을 찾아 첫 번째 항목과 위치를 바꾸고 다음 항목을 찾아 두 번째 위치와 바꾼다. 이를 리스트의 끝까지 한다.\n",
    "* 시간복잡도 : $O(n^{2})$"
   ]
  },
  {
   "cell_type": "code",
   "execution_count": 14,
   "metadata": {},
   "outputs": [
    {
     "name": "stdout",
     "output_type": "stream",
     "text": [
      "[11, 3, 28, 43, 9, 4]\n",
      "[3, 4, 9, 11, 28, 43]\n"
     ]
    }
   ],
   "source": [
    "def selectSort(li):\n",
    "    length = len(li)\n",
    "    for i in range(length):\n",
    "        maxnum = 0\n",
    "        maxidx = -1\n",
    "        for j in range(length - i):\n",
    "            if li[j] > maxnum:\n",
    "                maxidx = j\n",
    "                maxnum = li[j]\n",
    "        \n",
    "        li[length - i - 1], li[maxidx] = li[maxidx], li[length - i - 1]\n",
    "    return li\n",
    "        \n",
    "\n",
    "li = [11, 3, 28, 43, 9, 4]\n",
    "print(li)\n",
    "print(selectSort(li))"
   ]
  },
  {
   "cell_type": "markdown",
   "metadata": {},
   "source": [
    "## insertSort"
   ]
  },
  {
   "cell_type": "markdown",
   "metadata": {},
   "source": [
    "* 배열 맨 처음 정렬된 부분에, 정렬되지 않은 다음 항목을 반복적으로 삽입하는 방식\n",
    "* 데이터 크기가 작고 리스트가 이미 정렬되어 있으면 병합 정렬이나 퀵 정렬 같은 알고리즘보다 성능이 더 좋음\n",
    "* 최선의 시간복잡도 : $O(n)$\n",
    "* 최악의 시간복잡도 : $O(n^{2})$"
   ]
  },
  {
   "cell_type": "code",
   "execution_count": 19,
   "metadata": {},
   "outputs": [
    {
     "name": "stdout",
     "output_type": "stream",
     "text": [
      "[11, 3, 28, 43, 9, 4]\n",
      "[3, 4, 9, 11, 28, 43]\n"
     ]
    }
   ],
   "source": [
    "def insertSort(li):\n",
    "    length = len(li)\n",
    "    sortedlinelen = 0\n",
    "    for i in range(1, length):\n",
    "        for j in range(0, sortedlinelen + 1):\n",
    "            if li[i] < li[j]:\n",
    "                li[i], li[j] = li[j], li[i]\n",
    "        sortedlinelen += 1\n",
    "            \n",
    "                \n",
    "    return li\n",
    "\n",
    "\n",
    "li = [11, 3, 28, 43, 9, 4]\n",
    "print(li)\n",
    "print(insertSort(li))"
   ]
  },
  {
   "cell_type": "markdown",
   "metadata": {},
   "source": [
    "## gnomeSort"
   ]
  },
  {
   "cell_type": "markdown",
   "metadata": {},
   "source": [
    "* 앞으로 이동하며 잘못 정렬된 값을 찾은 후, 올바른 위치로 값을 교환하며 다시 뒤로 이동한다.\n",
    "* 최선의 시간복잡도 : $O(n)$\n",
    "* 최악의 시간복잡도 : $O(n^{2})$"
   ]
  },
  {
   "cell_type": "code",
   "execution_count": 21,
   "metadata": {},
   "outputs": [
    {
     "name": "stdout",
     "output_type": "stream",
     "text": [
      "[11, 3, 28, 43, 9, 4]\n",
      "[3, 4, 9, 11, 28, 43]\n"
     ]
    }
   ],
   "source": [
    "def gnomeSort(seq):\n",
    "    i = 0\n",
    "    while i < len(seq):\n",
    "        if i == 0 or seq[i - 1] <= seq[i]:\n",
    "            i += 1\n",
    "        else:\n",
    "            seq[i], seq[i - 1] = seq[i - 1], seq[i]\n",
    "            i -= 1\n",
    "    return seq\n",
    "\n",
    "li = [11, 3, 28, 43, 9, 4]\n",
    "print(li)\n",
    "print(gnomeSort(li))"
   ]
  },
  {
   "cell_type": "markdown",
   "metadata": {},
   "source": [
    "## countSort"
   ]
  },
  {
   "cell_type": "markdown",
   "metadata": {},
   "source": [
    "* 작은 범위의 정수를 정렬할 때 유용, 숫자의 발생 횟수를 계산하는 누적 카운트를 사용한다.\n",
    "* 누적 카운트를 갱신하여 순서대로 숫자를 직접 배치하는 방식이다.\n",
    "* 각 숫자 간격이 크다면 로그 선형 제한이 걸리며 비효율적이다.\n",
    "* 숫자 간격이 크지 않을 때의 시간복잡도 $O(n + k)$"
   ]
  },
  {
   "cell_type": "code",
   "execution_count": 22,
   "metadata": {},
   "outputs": [
    {
     "name": "stdout",
     "output_type": "stream",
     "text": [
      "[3, 5, 2, 6, 8, 1, 0, 3, 5, 6, 2, 5, 4, 1, 5, 3]\n",
      "[0, 1, 1, 2, 2, 3, 3, 3, 4, 5, 5, 5, 5, 6, 6, 8]\n"
     ]
    }
   ],
   "source": [
    "from collections import defaultdict\n",
    "\n",
    "def countSort(a):\n",
    "    b, c = [], defaultdict(list)\n",
    "    for x in a:\n",
    "        c[x].append(x)\n",
    "    for k in range(min(c), max(c) + 1):\n",
    "        b.extend(c[k])\n",
    "    return b\n",
    "\n",
    "li = [3, 5, 2, 6, 8, 1, 0, 3, 5, 6, 2, 5, 4, 1, 5, 3]\n",
    "print(li)\n",
    "print(countSort(li))"
   ]
  },
  {
   "cell_type": "markdown",
   "metadata": {},
   "source": [
    "## TimSort"
   ]
  },
  {
   "cell_type": "code",
   "execution_count": null,
   "metadata": {},
   "outputs": [],
   "source": []
  },
  {
   "cell_type": "code",
   "execution_count": null,
   "metadata": {},
   "outputs": [],
   "source": []
  },
  {
   "cell_type": "markdown",
   "metadata": {},
   "source": [
    "## mergeSort"
   ]
  },
  {
   "cell_type": "markdown",
   "metadata": {},
   "source": []
  },
  {
   "cell_type": "code",
   "execution_count": null,
   "metadata": {},
   "outputs": [],
   "source": []
  },
  {
   "cell_type": "code",
   "execution_count": null,
   "metadata": {},
   "outputs": [],
   "source": []
  }
 ],
 "metadata": {
  "kernelspec": {
   "display_name": "Python 3",
   "language": "python",
   "name": "python3"
  },
  "language_info": {
   "codemirror_mode": {
    "name": "ipython",
    "version": 3
   },
   "file_extension": ".py",
   "mimetype": "text/x-python",
   "name": "python",
   "nbconvert_exporter": "python",
   "pygments_lexer": "ipython3",
   "version": "3.9.1"
  }
 },
 "nbformat": 4,
 "nbformat_minor": 4
}
