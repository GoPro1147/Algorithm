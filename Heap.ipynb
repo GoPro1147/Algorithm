{
 "cells": [
  {
   "cell_type": "markdown",
   "metadata": {},
   "source": [
    "# Heap"
   ]
  },
  {
   "cell_type": "markdown",
   "metadata": {},
   "source": [
    "* 각 노드가 하위 노드보다 작은(또는 큰) 이진 트리를 의미한다.\n",
    "* 균형 트리의 모양이 수정될 때 다시 균형 트리로 만드는 시간 복잡도는 O(log n)이다.\n",
    "* 가장 작은(또는 가장 큰) 요소에 반복적으로 접근하는 프로그램에 유용하다.\n",
    "* 가장 작은(또는 가장 큰) 요소를 처리하는 시간 복잡도 : O(1)\n",
    "* 조회, 추가, 수정을 처리하는 시간 복잡도 : O(log n)"
   ]
  },
  {
   "cell_type": "markdown",
   "metadata": {},
   "source": [
    "## Python heapq 모듈"
   ]
  },
  {
   "cell_type": "code",
   "execution_count": 1,
   "metadata": {},
   "outputs": [
    {
     "name": "stdout",
     "output_type": "stream",
     "text": [
      "[1, 4, 8, 6]\n"
     ]
    }
   ],
   "source": [
    "import heapq\n",
    "list1 = [4, 6, 8, 1]\n",
    "heapq.heapify(list1)\n",
    "print(list1)"
   ]
  },
  {
   "cell_type": "markdown",
   "metadata": {},
   "source": [
    "항목을 heap에 삽입할 때, heapq.heappush(heap,item)을 사용한다."
   ]
  },
  {
   "cell_type": "code",
   "execution_count": 3,
   "metadata": {},
   "outputs": [
    {
     "name": "stdout",
     "output_type": "stream",
     "text": [
      "[(1, 'food'), (2, 'have fun'), (3, 'work'), (4, 'study')]\n"
     ]
    }
   ],
   "source": [
    "h = []\n",
    "heapq.heappush(h, (1, 'food'))\n",
    "heapq.heappush(h, (2, 'have fun'))\n",
    "heapq.heappush(h, (3, 'work'))\n",
    "heapq.heappush(h, (4, 'study'))\n",
    "print(h)"
   ]
  },
  {
   "cell_type": "markdown",
   "metadata": {},
   "source": [
    "heapq.heappop(heap) 함수는 힙에서 가장 작은 항목을 제거하고 반환한다."
   ]
  },
  {
   "cell_type": "code",
   "execution_count": 6,
   "metadata": {},
   "outputs": [
    {
     "name": "stdout",
     "output_type": "stream",
     "text": [
      "6\n",
      "[8]\n"
     ]
    }
   ],
   "source": [
    "print(heapq.heappop(list1))\n",
    "print(list1)"
   ]
  },
  {
   "cell_type": "markdown",
   "metadata": {},
   "source": [
    "## 최대 힙 구현하기"
   ]
  },
  {
   "cell_type": "code",
   "execution_count": 3,
   "metadata": {},
   "outputs": [
    {
     "name": "stdout",
     "output_type": "stream",
     "text": [
      "Test OK\n"
     ]
    }
   ],
   "source": [
    "class Heapify(object):\n",
    "    def __init__(self, data=None):\n",
    "        self.data = data or []\n",
    "        for i in range(len(data)//2, -1, -1):\n",
    "            self.__max_heapify__(i)\n",
    "            \n",
    "    def __repr__(self):\n",
    "        return repr(self.data)\n",
    "    \n",
    "    def parent(self, i):\n",
    "        if i & 1:\n",
    "            return i >> 1\n",
    "        else:\n",
    "            return (i >> 1) - 1\n",
    "        \n",
    "    def left_child(self, i):\n",
    "        return (i << 1) + 1\n",
    "    \n",
    "    def right_child(self, i):\n",
    "        return (i << 1) + 2\n",
    "    \n",
    "    def __max_heapify__(self, i):\n",
    "        largest = i\n",
    "        left = self.left_child(i)\n",
    "        right = self.right_child(i)\n",
    "        n = len(self.data)\n",
    "        \n",
    "        # left child\n",
    "        largest = (left < n and self.data[left] > self.data[i]) and left or i\n",
    "        # right child\n",
    "        largest = (right < n and self.data[right] > self.data[largest]) and right or largest\n",
    "        \n",
    "        if i is not largest:\n",
    "            self.data[i], self.data[largest] = self.data[largest], self.data[i]\n",
    "            \n",
    "            self.__max_heapify__(largest)\n",
    "            \n",
    "    def extract_max(self):\n",
    "        n = len(self.data)\n",
    "        max_element = self.data[0]\n",
    "        \n",
    "        self.data[0] = self.data[n - 1]\n",
    "        self.data = self.data[:n - 1]\n",
    "        self.__max_heapify__(0)\n",
    "        return max_element\n",
    "    \n",
    "    def insert(self, item):\n",
    "        i = len(self.data)\n",
    "        self.data.append(item)\n",
    "        while (i != 0) and item > self.data[self.parent(i)]:\n",
    "            print(self.data)\n",
    "            self.data[i] = self.data[self.parent(i)]\n",
    "            i = self.parent(i)\n",
    "        self.data[i] = item\n",
    "\n",
    "        \n",
    "def test_heapify():\n",
    "    l1 = [3, 2, 5, 1, 7, 8, 2]\n",
    "    h = Heapify(l1)\n",
    "    assert(h.extract_max() == 8)\n",
    "    print(\"Test OK\")\n",
    "    \n",
    "\n",
    "if __name__ == \"__main__\":\n",
    "    test_heapify()"
   ]
  },
  {
   "cell_type": "markdown",
   "metadata": {},
   "source": [
    "## heapq 모듈을 이용해 우선순위 큐 구현"
   ]
  },
  {
   "cell_type": "code",
   "execution_count": 4,
   "metadata": {},
   "outputs": [
    {
     "name": "stdout",
     "output_type": "stream",
     "text": [
      "test OK\n"
     ]
    }
   ],
   "source": [
    "import heapq\n",
    "\n",
    "class PriorityQueue(object):\n",
    "    def __init__(self):\n",
    "        self._queue = []\n",
    "        self._index = 0\n",
    "        \n",
    "    def push(self, item, priority):\n",
    "        # -를 붙이는 순간 최소힙에서 최대힙으로 변경\n",
    "        heapq.heappush(self._queue, (-priority, self._index, item))\n",
    "        self._index += 1\n",
    "        \n",
    "    def pop(self):\n",
    "        return heapq.heappop(self._queue)[-1]\n",
    "    \n",
    "class Item(object):\n",
    "    def __init__(self, name):\n",
    "        self.name = name\n",
    "        \n",
    "    def __repr__(self):\n",
    "        return \"Item({0!r})\".format(self.name)\n",
    "    \n",
    "def test_priority_queue():\n",
    "    '''push, pop : Time complexity : O(logN)'''\n",
    "    q = PriorityQueue()\n",
    "    q.push(Item('test1'), 1)\n",
    "    q.push(Item('test2'), 4)\n",
    "    q.push(Item('test3'), 3)\n",
    "    assert(str(q.pop()) == \"Item('test2')\")\n",
    "    print(\"test OK\")\n",
    "        \n",
    "\n",
    "if __name__ == \"__main__\":\n",
    "    test_priority_queue()"
   ]
  }
 ],
 "metadata": {
  "kernelspec": {
   "display_name": "Python 3",
   "language": "python",
   "name": "python3"
  },
  "language_info": {
   "codemirror_mode": {
    "name": "ipython",
    "version": 3
   },
   "file_extension": ".py",
   "mimetype": "text/x-python",
   "name": "python",
   "nbconvert_exporter": "python",
   "pygments_lexer": "ipython3",
   "version": "3.9.1"
  }
 },
 "nbformat": 4,
 "nbformat_minor": 4
}
