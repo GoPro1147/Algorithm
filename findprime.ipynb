{
 "cells": [
  {
   "cell_type": "markdown",
   "metadata": {},
   "source": [
    "# 소수 찾기"
   ]
  },
  {
   "cell_type": "markdown",
   "metadata": {},
   "source": [
    "## 1. brute force"
   ]
  },
  {
   "cell_type": "markdown",
   "metadata": {},
   "source": [
    "소수는 1과 자기 자신만 약수로 갖는 수이므로 찾을 수 n을 2 ~ n - 1로 나눌 시 단 하나라도 나머지가 없으면 소수가 아님"
   ]
  },
  {
   "cell_type": "code",
   "execution_count": 1,
   "metadata": {},
   "outputs": [],
   "source": [
    "def findPrimeByBruteForce(n):\n",
    "    num = abs(n)\n",
    "    if num < 4: return True\n",
    "    for x in range(2, num):\n",
    "        if num % x == 0:\n",
    "            return False\n",
    "    \n",
    "    return True"
   ]
  },
  {
   "cell_type": "markdown",
   "metadata": {},
   "source": [
    "## 2. 제곱근"
   ]
  },
  {
   "cell_type": "markdown",
   "metadata": {},
   "source": [
    "1. $ m = \\sqrt{n} $ , $ m \\times m = n $ 라고 가정한다.\n",
    "2. n이 소수(Prime Number)가 아니면 $ n = a \\times b $이므로 $ m \\times m = a \\times b $이다.\n",
    "3. m은 실수(Real Number), n, a, b 는 자연수(Natural Number)다. 그러면 다음 세 가지 경우가 생긴다.\n",
    "1) a > m 이면, b < m\n",
    "2) a = m 이면, b = m\n",
    "3) a < m 이면, b > m\n",
    "\n",
    "세 가지 경우 min(a, b) ≤ m 이므로 2 ~ m 까지의 수를 검색하면서 적어도 n과 나누어 떨어지는 수를 발견하면 n은 소수가 아님을 증명할 수 있다."
   ]
  },
  {
   "cell_type": "code",
   "execution_count": 2,
   "metadata": {},
   "outputs": [],
   "source": [
    "import math\n",
    "\n",
    "\n",
    "def findPrimeBySqrt(n):\n",
    "    num = abs(n)\n",
    "    if num < 4: return True\n",
    "    m = int(math.sqrt(n))\n",
    "    for x in range(2, m + 1):\n",
    "        if num % x == 0:\n",
    "            return False\n",
    "        \n",
    "    return True"
   ]
  },
  {
   "cell_type": "markdown",
   "metadata": {},
   "source": [
    "## 3. 페르마의 소정리"
   ]
  },
  {
   "cell_type": "markdown",
   "metadata": {},
   "source": [
    "p가 소수이고 a가 p의 배수가 아니면 $ a^{p-1} \\equiv 1 \\pmod{p} $이다.\n",
    "즉, $ a^{p-1} $을 p로 나눈 나머지는 1이다."
   ]
  },
  {
   "cell_type": "code",
   "execution_count": 3,
   "metadata": {},
   "outputs": [],
   "source": [
    "def findPrimeByFermat(n):\n",
    "    p = abs(n)\n",
    "    if p < 4: return True\n",
    "    a = p - 1\n",
    "    if (a ** (p - 1)) % p == 1:\n",
    "        return True\n",
    "    return False"
   ]
  },
  {
   "cell_type": "markdown",
   "metadata": {},
   "source": [
    "# Test"
   ]
  },
  {
   "cell_type": "code",
   "execution_count": 5,
   "metadata": {},
   "outputs": [
    {
     "name": "stdout",
     "output_type": "stream",
     "text": [
      "test Ok\n"
     ]
    }
   ],
   "source": [
    "number1 = 17\n",
    "number2 = 20\n",
    "\n",
    "assert(findPrimeByBruteForce(number1) is True)\n",
    "assert(findPrimeByBruteForce(number2) is False)\n",
    "assert(findPrimeBySqrt(number1) is True)\n",
    "assert(findPrimeBySqrt(number2) is False)\n",
    "assert(findPrimeByFermat(number1) is True)\n",
    "assert(findPrimeByFermat(number2) is False)\n",
    "print(\"test Ok\")"
   ]
  },
  {
   "cell_type": "code",
   "execution_count": null,
   "metadata": {},
   "outputs": [],
   "source": []
  }
 ],
 "metadata": {
  "kernelspec": {
   "display_name": "Python 3",
   "language": "python",
   "name": "python3"
  },
  "language_info": {
   "codemirror_mode": {
    "name": "ipython",
    "version": 3
   },
   "file_extension": ".py",
   "mimetype": "text/x-python",
   "name": "python",
   "nbconvert_exporter": "python",
   "pygments_lexer": "ipython3",
   "version": "3.8.3"
  }
 },
 "nbformat": 4,
 "nbformat_minor": 4
}
