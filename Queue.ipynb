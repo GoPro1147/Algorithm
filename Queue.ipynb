{
 "cells": [
  {
   "cell_type": "markdown",
   "metadata": {},
   "source": [
    "# 큐(Queue)"
   ]
  },
  {
   "cell_type": "markdown",
   "metadata": {},
   "source": [
    "먼저 들어온 데이터가 먼저 나가는 선입선출(FIFO : First In, First Out) 구조다."
   ]
  },
  {
   "cell_type": "markdown",
   "metadata": {},
   "source": [
    "큐의 동작은 다음과 같다."
   ]
  },
  {
   "cell_type": "markdown",
   "metadata": {},
   "source": [
    "* enqueue : 큐 뒤쪽에 항목을 삽입한다.\n",
    "* dequeue : 큐 앞쪽에 항목을 반환하고, 제거한다.\n",
    "* peek/front : 큐 앞쪽의 항목을 조회한다.\n",
    "* empty : 큐가 비어있는지 확인한다.\n",
    "* size : 큐의 크기를 확인한다."
   ]
  },
  {
   "cell_type": "markdown",
   "metadata": {},
   "source": [
    "## 기본적인 Queue"
   ]
  },
  {
   "cell_type": "code",
   "execution_count": 3,
   "metadata": {},
   "outputs": [
    {
     "name": "stdout",
     "output_type": "stream",
     "text": [
      "Queue is Empty? True\n",
      "insert 0 to 9\n",
      "Queue's size10\n",
      "peek : 0\n",
      "dequeue : 0\n",
      "peek : 1\n",
      "Queue is Empty? False\n",
      "[9, 8, 7, 6, 5, 4, 3, 2, 1]\n"
     ]
    }
   ],
   "source": [
    "class Queue(object):\n",
    "    def __init__(self):\n",
    "        self.items = []\n",
    "        \n",
    "    def isEmpty(self):\n",
    "        return not bool(self.items)\n",
    "    \n",
    "    def enqueue(self, item):\n",
    "        self.items.insert(0, item)\n",
    "        \n",
    "    def dequeue(self):\n",
    "        value = self.items.pop()\n",
    "        if value is not None:\n",
    "            return value\n",
    "        else:\n",
    "            print(\"Queue is empty!\")\n",
    "    \n",
    "    def size(self):\n",
    "        return len(self.items)\n",
    "    \n",
    "    def peek(self):\n",
    "        if self.items:\n",
    "            return self.items[-1]\n",
    "        else:\n",
    "            print(\"Queue is empty.\")\n",
    "            \n",
    "    def __repr__(self):\n",
    "        return repr(self.items)\n",
    "\n",
    "\n",
    "if __name__ == \"__main__\":\n",
    "    queue = Queue()\n",
    "    print(f\"Queue is Empty? {queue.isEmpty()}\")\n",
    "    print(\"insert 0 to 9\")\n",
    "    for i in range(10):\n",
    "        queue.enqueue(i)\n",
    "        \n",
    "    print(f\"Queue's size{queue.size()}\")\n",
    "    print(f\"peek : {queue.peek()}\")\n",
    "    print(f\"dequeue : {queue.dequeue()}\")\n",
    "    print(f\"peek : {queue.peek()}\")\n",
    "    print(f\"Queue is Empty? {queue.isEmpty()}\")\n",
    "    print(queue)"
   ]
  },
  {
   "cell_type": "markdown",
   "metadata": {},
   "source": [
    "`insert()` 메서드를 쓰면 list 내에 모든 요소가 메모리에서 이동될 수 있어서 비효올적이다.(O(n)의 시간 복잡도)"
   ]
  },
  {
   "cell_type": "markdown",
   "metadata": {},
   "source": [
    "## 두 개의 스택(Stack)을 사용한 큐"
   ]
  },
  {
   "cell_type": "code",
   "execution_count": 7,
   "metadata": {},
   "outputs": [
    {
     "name": "stdout",
     "output_type": "stream",
     "text": [
      "Queue is Empty? True\n",
      "insert 0 to 9\n",
      "Queue size : 10\n",
      "peek : 0\n",
      "dequeue : 0\n",
      "peek: 0\n",
      "Queue is Empty? False\n",
      "[9, 8, 7, 6, 5, 4, 3, 2, 1, 0]\n"
     ]
    }
   ],
   "source": [
    "class Queue(object):\n",
    "    def __init__(self):\n",
    "        self.in_stack = []\n",
    "        self.out_stack = []\n",
    "        \n",
    "    def _transfer(self):\n",
    "        while self.in_stack:\n",
    "            self.out_stack.append(self.in_stack.pop())\n",
    "            \n",
    "    def enqueue(self, item):\n",
    "        return self.in_stack.append(item)\n",
    "    \n",
    "    def dequeue(self):\n",
    "        if not self.out_stack:\n",
    "            self._transfer()\n",
    "        if self.out_stack:\n",
    "            return self.out_stack[-1]\n",
    "        else:\n",
    "            print(\"Queue is Empty!\")\n",
    "            \n",
    "    def size(self):\n",
    "        return len(self.in_stack) + len(self.out_stack)\n",
    "    \n",
    "    def peek(self):\n",
    "        if not self.out_stack:\n",
    "            self._transfer()\n",
    "        if self.out_stack:\n",
    "            return self.out_stack[-1]\n",
    "        else:\n",
    "            print(\"Queue is Empty!\")\n",
    "            \n",
    "    def __repr__(self):\n",
    "        if not self.out_stack:\n",
    "            self._transfer()\n",
    "        if self.out_stack:\n",
    "            return repr(self.out_stack)\n",
    "        else:\n",
    "            print(\"Queue is Empty!\")\n",
    "            \n",
    "    def isEmpty(self):\n",
    "        return not (bool(self.in_stack) or bool(self.out_stack))\n",
    "    \n",
    "\n",
    "if __name__ == \"__main__\":\n",
    "    queue = Queue()\n",
    "    print(\"Queue is Empty? {0}\".format(queue.isEmpty()))\n",
    "    print(\"insert 0 to 9\")\n",
    "    for i in range(10):\n",
    "        queue.enqueue(i)\n",
    "    print(\"Queue size : {0}\".format(queue.size()))\n",
    "    print(\"peek : {0}\".format(queue.peek()))\n",
    "    print(\"dequeue : {0}\".format(queue.dequeue()))\n",
    "    print(\"peek: {0}\".format(queue.peek()))\n",
    "    print(\"Queue is Empty? {0}\".format(queue.isEmpty()))\n",
    "    print(queue)\n",
    "            \n",
    "            "
   ]
  },
  {
   "cell_type": "markdown",
   "metadata": {},
   "source": [
    "## 노드(Node) 를 사용한 Queue"
   ]
  },
  {
   "cell_type": "code",
   "execution_count": 9,
   "metadata": {},
   "outputs": [
    {
     "name": "stdout",
     "output_type": "stream",
     "text": [
      "Queue is Empty? True\n",
      "insert 0 to 9\n",
      "Queue is Empty? False\n",
      "0 1 2 3 4 5 6 7 8 9 \n",
      "Queue size : 10\n",
      "peek : 0\n",
      "dequeue : 0\n",
      "peek : 1\n",
      "1 2 3 4 5 6 7 8 9 \n"
     ]
    }
   ],
   "source": [
    "class Node(object):\n",
    "    def __init__(self, value=None, pointer=None):\n",
    "        self.value = value\n",
    "        self.pointer = None\n",
    "        \n",
    "\n",
    "class LinkedQueue(object):\n",
    "    def __init__(self):\n",
    "        self.head = None\n",
    "        self.tail = None\n",
    "        self.count = 0\n",
    "        \n",
    "    def isEmpty(self):\n",
    "        return not bool(self.head)\n",
    "    \n",
    "    def dequeue(self):\n",
    "        if self.head:\n",
    "            value = self.head.value\n",
    "            self.head = self.head.pointer\n",
    "            self.count -= 1\n",
    "            return value\n",
    "        else:\n",
    "            print(\"Queue is Empty!\")\n",
    "            \n",
    "    def enqueue(self, value):\n",
    "        node = Node(value)\n",
    "        if not self.head:\n",
    "            self.head = node\n",
    "            self.tail = node\n",
    "        else:\n",
    "            if self.tail:\n",
    "                self.tail.pointer = node\n",
    "            self.tail = node\n",
    "        self.count += 1\n",
    "        \n",
    "    def size(self):\n",
    "        return self.count\n",
    "    \n",
    "    def peek(self):\n",
    "        return self.head.value\n",
    "    \n",
    "    def print(self):\n",
    "        node = self.head\n",
    "        while node:\n",
    "            print(node.value, end=\" \")\n",
    "            node = node.pointer\n",
    "        print()\n",
    "        \n",
    "\n",
    "if __name__ == \"__main__\":\n",
    "    queue = LinkedQueue()\n",
    "    print(\"Queue is Empty? {0}\".format(queue.isEmpty()))\n",
    "    print(\"insert 0 to 9\")\n",
    "    for i in range(10):\n",
    "        queue.enqueue(i)\n",
    "    \n",
    "    print(\"Queue is Empty? {0}\".format(queue.isEmpty()))\n",
    "    queue.print()\n",
    "    \n",
    "    print(\"Queue size : {0}\".format(queue.size()))\n",
    "    print(\"peek : {0}\".format(queue.peek()))\n",
    "    print(\"dequeue : {0}\".format(queue.dequeue()))\n",
    "    print(\"peek : {0}\".format(queue.peek()))\n",
    "    queue.print()"
   ]
  },
  {
   "cell_type": "code",
   "execution_count": null,
   "metadata": {},
   "outputs": [],
   "source": []
  }
 ],
 "metadata": {
  "kernelspec": {
   "display_name": "Python 3",
   "language": "python",
   "name": "python3"
  },
  "language_info": {
   "codemirror_mode": {
    "name": "ipython",
    "version": 3
   },
   "file_extension": ".py",
   "mimetype": "text/x-python",
   "name": "python",
   "nbconvert_exporter": "python",
   "pygments_lexer": "ipython3",
   "version": "3.8.3"
  }
 },
 "nbformat": 4,
 "nbformat_minor": 4
}
