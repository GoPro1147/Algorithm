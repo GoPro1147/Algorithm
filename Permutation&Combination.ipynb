{
 "cells": [
  {
   "cell_type": "markdown",
   "metadata": {},
   "source": [
    "# 순열(Permutation)"
   ]
  },
  {
   "cell_type": "markdown",
   "metadata": {},
   "source": [
    "서로 다른 n개의 원소에서 r개를 **중복없이** 골라 **순서에 상관있게** 나열하는 것을 n개에서 r개를 택하는 순열이라 한다."
   ]
  },
  {
   "cell_type": "markdown",
   "metadata": {},
   "source": [
    "$$ {}_n\\mathrm{P}_{r} = n \\times (n - 1) \\times (n - 2) \\times \\cdots \\cdots \\times (n - r + 1) = {{n!} \\over {(n - r)!}} $$"
   ]
  },
  {
   "cell_type": "markdown",
   "metadata": {},
   "source": [
    "## 1. 내장 모듈 사용"
   ]
  },
  {
   "cell_type": "code",
   "execution_count": 1,
   "metadata": {},
   "outputs": [],
   "source": [
    "import itertools\n",
    "\n",
    "def permutationByItertools(li):\n",
    "    res = itertools.permutations(li)\n",
    "    return [\"\".join(i) for i in res]"
   ]
  },
  {
   "cell_type": "code",
   "execution_count": 2,
   "metadata": {},
   "outputs": [
    {
     "name": "stdout",
     "output_type": "stream",
     "text": [
      "['012', '021', '102', '120', '201', '210']\n"
     ]
    }
   ],
   "source": [
    "# 입력값은 문자열 일 것\n",
    "val = [\"0\", \"1\", \"2\"]\n",
    "print(permutationByItertools(val))"
   ]
  },
  {
   "cell_type": "markdown",
   "metadata": {},
   "source": [
    "## 2. 재귀함수 이용"
   ]
  },
  {
   "cell_type": "code",
   "execution_count": 3,
   "metadata": {},
   "outputs": [],
   "source": [
    "import copy\n",
    "\n",
    "\n",
    "\"\"\"\n",
    "n : 사용할 원소 리스트 길이 변수\n",
    "li : 사용할 원소 리스트\n",
    "r : 사용할 원소 리스트 중 몇 개를 뽑을 지 결정하는 변수\n",
    "idx : 고른 숫자를 저장할 위치 변수\n",
    "used: 원소 리스트에서 수를 사용했는지 안했는지 기록하는 리스트\n",
    "result : 고른 숫자를 저장할 리스트\n",
    "result_list : n개의 원소 중 r개를 선택해 새로운 리스트를 다 만들었을 때 그 결과를 저장할 리스트\n",
    "\"\"\"\n",
    "def permutationByRecursive(n, li, r, idx = 0, used = None, result = None, result_list = []):\n",
    "    if used is None:\n",
    "        used = [False] * n\n",
    "        \n",
    "    if result is None:\n",
    "        result = [0] * r\n",
    "        \n",
    "    if idx == r:\n",
    "        result_list.append(copy.deepcopy(result))\n",
    "        \n",
    "        \n",
    "    else:\n",
    "        for i in range(n):\n",
    "            if used[i] == False:\n",
    "                result[idx] = li[i]\n",
    "                used[i] = True\n",
    "                permutationByRecursive(n, li, r, idx + 1, used, result, result_list)\n",
    "                used[i] = False\n",
    "                \n",
    "                \n",
    "    return result_list"
   ]
  },
  {
   "cell_type": "code",
   "execution_count": 4,
   "metadata": {},
   "outputs": [
    {
     "name": "stdout",
     "output_type": "stream",
     "text": [
      "[[1, 2, 3], [1, 3, 2], [2, 1, 3], [2, 3, 1], [3, 1, 2], [3, 2, 1]]\n"
     ]
    }
   ],
   "source": [
    "val = [1, 2, 3]\n",
    "n = len(val)\n",
    "r = 3\n",
    "\n",
    "print(permutationByRecursive(n, val, r))"
   ]
  },
  {
   "cell_type": "markdown",
   "metadata": {},
   "source": [
    "# 중복순열(Permutation with repetition)"
   ]
  },
  {
   "cell_type": "markdown",
   "metadata": {},
   "source": [
    "서로 다른 n개의 원소에서 r개를 **중복 상관없이** 골라 **순서에 상관있게** 나열하는 것을 n개에서 r개를 택하는 순열이라 한다."
   ]
  },
  {
   "cell_type": "markdown",
   "metadata": {},
   "source": [
    "$$ _{n} \\mathrm(\\Pi)_{r} = n^{r}$$"
   ]
  },
  {
   "cell_type": "code",
   "execution_count": 5,
   "metadata": {},
   "outputs": [],
   "source": [
    "import copy\n",
    "\n",
    "\n",
    "\"\"\"\n",
    "n : 사용할 원소 리스트 길이 변수\n",
    "li : 사용할 원소 리스트\n",
    "r : 사용할 원소 리스트 중 몇 개를 뽑을 지 결정하는 변수\n",
    "idx : 고른 숫자를 저장할 위치 변수\n",
    "result : 고른 숫자를 저장할 리스트\n",
    "result_list : n개의 원소 중 r개를 선택해 새로운 리스트를 다 만들었을 때 그 결과를 저장할 리스트\n",
    "\"\"\"\n",
    "def permutationWithRepetitionByRecursive(n, li, r, idx = 0, result = None, result_list = []):\n",
    "    if result is None:\n",
    "        result = [0] * r\n",
    "        \n",
    "    if idx == r:\n",
    "        result_list.append(copy.deepcopy(result))\n",
    "        \n",
    "    else:\n",
    "        for i in range(n):\n",
    "            result[idx] = li[i]\n",
    "            permutationWithRepetitionByRecursive(n, li, r, idx + 1, result, result_list)\n",
    "            \n",
    "    return result_list"
   ]
  },
  {
   "cell_type": "code",
   "execution_count": 6,
   "metadata": {},
   "outputs": [
    {
     "name": "stdout",
     "output_type": "stream",
     "text": [
      "[[1, 1, 1], [1, 1, 2], [1, 1, 3], [1, 2, 1], [1, 2, 2], [1, 2, 3], [1, 3, 1], [1, 3, 2], [1, 3, 3], [2, 1, 1], [2, 1, 2], [2, 1, 3], [2, 2, 1], [2, 2, 2], [2, 2, 3], [2, 3, 1], [2, 3, 2], [2, 3, 3], [3, 1, 1], [3, 1, 2], [3, 1, 3], [3, 2, 1], [3, 2, 2], [3, 2, 3], [3, 3, 1], [3, 3, 2], [3, 3, 3]]\n"
     ]
    }
   ],
   "source": [
    "val = [1, 2, 3]\n",
    "n = len(val)\n",
    "r = 3\n",
    "\n",
    "print(permutationWithRepetitionByRecursive(n, val, r))"
   ]
  },
  {
   "cell_type": "markdown",
   "metadata": {},
   "source": [
    "# 조합(Combination)"
   ]
  },
  {
   "cell_type": "markdown",
   "metadata": {},
   "source": [
    "n개의 원소를 가지는 집합에서 **순서에 상관없이** r개를 **중복없이** 선택하는 것이다."
   ]
  },
  {
   "cell_type": "markdown",
   "metadata": {},
   "source": [
    "$$ {}_{n}\\mathrm{C}_{r} = {{n} \\choose {r}} = {{n!}\\over{(n-r!)r!}} = {{{}_{n}\\mathrm{P}_{r}} \\over {r!}} $$"
   ]
  },
  {
   "cell_type": "code",
   "execution_count": 7,
   "metadata": {},
   "outputs": [],
   "source": [
    "import copy\n",
    "\n",
    "\n",
    "\"\"\"\n",
    "n : 사용할 원소 리스트 길이 변수\n",
    "li : 사용할 원소 리스트\n",
    "r : 사용할 원소 리스트 중 몇 개를 뽑을 지 결정하는 변수\n",
    "idx : 고른 숫자를 저장할 위치 변수\n",
    "selectidx : 원소 리스트 내의 수를 가리킴(그 수를 쓸 지 안쓸지는 함수 내에서 결정)\n",
    "result : 고른 숫자를 저장할 위치 변수\n",
    "result_list : n개의 원소 중 r개를 선택해 새로운 리스트를 다 만들었을 때 그 결과를 저장할 리스트\n",
    "\"\"\"\n",
    "def combinationByRecursive(n, li, r, idx = 0, selectidx = 0, result = None, result_list = []):\n",
    "    if result is None:\n",
    "        result = [0] * r\n",
    "    if idx == r:\n",
    "        result_list.append(copy.deepcopy(result))\n",
    "    elif selectidx >= n:\n",
    "        return\n",
    "    else:\n",
    "        combinationByRecursive(n, li, r, idx, selectidx + 1, result, result_list)\n",
    "        result[idx] = li[selectidx]\n",
    "        \n",
    "        combinationByRecursive(n, li, r, idx + 1, selectidx + 1, result, result_list)\n",
    "    \n",
    "    return result_list"
   ]
  },
  {
   "cell_type": "code",
   "execution_count": 8,
   "metadata": {},
   "outputs": [
    {
     "name": "stdout",
     "output_type": "stream",
     "text": [
      "[[2, 3, 4], [1, 3, 4], [1, 2, 4], [1, 2, 3]]\n"
     ]
    }
   ],
   "source": [
    "val = [1, 2, 3, 4]\n",
    "n = len(val)\n",
    "r = 3\n",
    "\n",
    "print(combinationByRecursive(n, val, r))"
   ]
  },
  {
   "cell_type": "markdown",
   "metadata": {},
   "source": [
    "# 중복조합"
   ]
  },
  {
   "cell_type": "markdown",
   "metadata": {},
   "source": [
    "n개의 원소를 가지는 집합에서 **순서에 상관없이** r개를 **중복 허용하여** 선택하는 것이다."
   ]
  },
  {
   "cell_type": "markdown",
   "metadata": {},
   "source": [
    "$$ {}_{n}\\mathrm{H}_{r} = \\left({n \\choose r} \\right) = {}_{r + (n - 1)}\\mathrm{C}_{r} = {}_{n + r - 1}\\mathrm{C}_{n - 1} = {{(n+r-1)!} \\over {(n - 1)!r!}} $$"
   ]
  },
  {
   "cell_type": "code",
   "execution_count": 2,
   "metadata": {},
   "outputs": [],
   "source": [
    "import copy\n",
    "\n",
    "\n",
    "\"\"\"\n",
    "n : 사용할 원소 리스트 길이 변수\n",
    "li : 사용할 원소 리스트\n",
    "r : 사용할 원소 리스트 중 몇 개를 뽑을 지 결정하는 변수\n",
    "idx : 고른 숫자를 저장할 위치 변수\n",
    "result : 고른 숫자를 저장할 위치 변수\n",
    "result_list : n개의 원소 중 r개를 선택해 새로운 리스트를 다 만들었을 때 그 결과를 저장할 리스트\n",
    "\"\"\"\n",
    "def combinationWithRepetitionByRecursive(n, li, r, idx = 0, selectidx = 0, result = None, result_list = []):\n",
    "    if result is None:\n",
    "        result = [False] * (n - 1 + r)\n",
    "    if idx == (n - 1 + r):\n",
    "        selectidx = 0\n",
    "        temp = []\n",
    "        for i in range(n):\n",
    "            if result[i] == True:\n",
    "                selectidx += 1\n",
    "            else:\n",
    "                temp.append(li[selectidx])\n",
    "            \n",
    "        result_list.append(copy.deepcopy(temp))\n",
    "    elif selectidx >= n:\n",
    "        return\n",
    "    else:\n",
    "        combinationWithRepetitionByRecursive(n, li, r, idx, selectidx, result, result_list)\n",
    "        result[idx] = True\n",
    "        combinationWithRepetitionByRecursive(n, li, r, idx + 1, selectidx + 1, result, result_list)\n",
    "    \n",
    "    return result_list"
   ]
  },
  {
   "cell_type": "code",
   "execution_count": null,
   "metadata": {
    "scrolled": true
   },
   "outputs": [],
   "source": [
    "val = [1, 2]\n",
    "n = len(val)\n",
    "r = 3\n",
    "\n",
    "print(combinationWithRepetitionByRecursive(n, val, r))\n",
    "print(len(combinationWithRepetitionByRecursive(n, val, r)))"
   ]
  },
  {
   "cell_type": "code",
   "execution_count": null,
   "metadata": {},
   "outputs": [],
   "source": []
  }
 ],
 "metadata": {
  "kernelspec": {
   "display_name": "Python 3",
   "language": "python",
   "name": "python3"
  },
  "language_info": {
   "codemirror_mode": {
    "name": "ipython",
    "version": 3
   },
   "file_extension": ".py",
   "mimetype": "text/x-python",
   "name": "python",
   "nbconvert_exporter": "python",
   "pygments_lexer": "ipython3",
   "version": "3.8.3"
  }
 },
 "nbformat": 4,
 "nbformat_minor": 4
}
