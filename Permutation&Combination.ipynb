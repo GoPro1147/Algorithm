{
 "cells": [
  {
   "cell_type": "markdown",
   "metadata": {},
   "source": [
    "# 순열(Permutation)"
   ]
  },
  {
   "cell_type": "markdown",
   "metadata": {},
   "source": [
    "서로 다른 n개의 원소에서 r개를 **중복없이** 골라 **순서에 상관있게** 나열하는 것을 n개에서 r개를 택하는 순열이라 한다."
   ]
  },
  {
   "cell_type": "markdown",
   "metadata": {},
   "source": [
    "$$ {}_n\\mathrm{P}_{r} = n \\times (n - 1) \\times (n - 2) \\times \\cdots \\cdots \\times (n - r + 1) = {{n!} \\over {(n - r)!}} $$"
   ]
  },
  {
   "cell_type": "markdown",
   "metadata": {},
   "source": [
    "## 1. 내장 모듈 사용"
   ]
  },
  {
   "cell_type": "code",
   "execution_count": 1,
   "metadata": {},
   "outputs": [],
   "source": [
    "import itertools\n",
    "\n",
    "def permutationByItertools(li):\n",
    "    res = itertools.permutations(li, 2)\n",
    "    return [\" \".join(i) for i in res]"
   ]
  },
  {
   "cell_type": "code",
   "execution_count": 2,
   "metadata": {},
   "outputs": [
    {
     "data": {
      "text/plain": [
       "['1 2',\n",
       " '1 3',\n",
       " '1 4',\n",
       " '2 1',\n",
       " '2 3',\n",
       " '2 4',\n",
       " '3 1',\n",
       " '3 2',\n",
       " '3 4',\n",
       " '4 1',\n",
       " '4 2',\n",
       " '4 3']"
      ]
     },
     "execution_count": 2,
     "metadata": {},
     "output_type": "execute_result"
    }
   ],
   "source": [
    "# 입력값은 문자열 일 것\n",
    "val = [\"1\", \"2\", \"3\", \"4\"]\n",
    "permutationByItertools(val)"
   ]
  },
  {
   "cell_type": "markdown",
   "metadata": {},
   "source": [
    "## 2. 재귀함수 이용"
   ]
  },
  {
   "cell_type": "code",
   "execution_count": 3,
   "metadata": {},
   "outputs": [],
   "source": [
    "import copy\n",
    "\n",
    "\n",
    "\"\"\"\n",
    "n : 사용할 원소 리스트 길이 변수\n",
    "li : 사용할 원소 리스트\n",
    "r : 사용할 원소 리스트 중 몇 개를 뽑을 지 결정하는 변수\n",
    "idx : 고른 숫자를 저장할 위치 변수\n",
    "used: 원소 리스트에서 수를 사용했는지 안했는지 기록하는 리스트\n",
    "result : 고른 숫자를 저장할 리스트\n",
    "result_list : n개의 원소 중 r개를 선택해 새로운 리스트를 다 만들었을 때 그 결과를 저장할 리스트\n",
    "\"\"\"\n",
    "def permutationByRecursive(n, li, r, idx = 0, used = None, result = None, result_list = []):\n",
    "    if used is None:# 파이썬에서는 가변 객체(리스트, 딕셔너리 등)을 함수(모듈)의 기본값으로 쓰면 안된다.\n",
    "        used = [False] * n\n",
    "        \n",
    "    if result is None:\n",
    "        result = [0] * r\n",
    "        \n",
    "    if result_list is None:\n",
    "        result_list = []\n",
    "        \n",
    "    if idx == r:\n",
    "        result_list.append(copy.deepcopy(result))\n",
    "        \n",
    "        \n",
    "    else:\n",
    "        for i in range(n):\n",
    "            if used[i] == False:\n",
    "                result[idx] = li[i]\n",
    "                used[i] = True\n",
    "                permutationByRecursive(n, li, r, idx + 1, used, result, result_list)\n",
    "                used[i] = False\n",
    "                \n",
    "                \n",
    "    return result_list"
   ]
  },
  {
   "cell_type": "code",
   "execution_count": 4,
   "metadata": {},
   "outputs": [
    {
     "name": "stdout",
     "output_type": "stream",
     "text": [
      "[[1, 2], [1, 3], [1, 4], [1, 5], [1, 6], [1, 7], [2, 1], [2, 3], [2, 4], [2, 5], [2, 6], [2, 7], [3, 1], [3, 2], [3, 4], [3, 5], [3, 6], [3, 7], [4, 1], [4, 2], [4, 3], [4, 5], [4, 6], [4, 7], [5, 1], [5, 2], [5, 3], [5, 4], [5, 6], [5, 7], [6, 1], [6, 2], [6, 3], [6, 4], [6, 5], [6, 7], [7, 1], [7, 2], [7, 3], [7, 4], [7, 5], [7, 6]]\n"
     ]
    }
   ],
   "source": [
    "val = [1, 2, 3, 4, 5, 6, 7]\n",
    "n = len(val)\n",
    "r = 2\n",
    "\n",
    "print(permutationByRecursive(n, val, r))"
   ]
  },
  {
   "cell_type": "markdown",
   "metadata": {},
   "source": [
    "# 중복순열(Permutation with repetition)"
   ]
  },
  {
   "cell_type": "markdown",
   "metadata": {},
   "source": [
    "서로 다른 n개의 원소에서 r개를 **중복 상관없이** 골라 **순서에 상관있게** 나열하는 것을 n개에서 r개를 택하는 순열이라 한다."
   ]
  },
  {
   "cell_type": "markdown",
   "metadata": {},
   "source": [
    "$$ _{n} \\mathrm(\\Pi)_{r} = n^{r}$$"
   ]
  },
  {
   "cell_type": "code",
   "execution_count": 5,
   "metadata": {},
   "outputs": [],
   "source": [
    "import copy\n",
    "\n",
    "\n",
    "\"\"\"\n",
    "n : 사용할 원소 리스트 길이 변수\n",
    "li : 사용할 원소 리스트\n",
    "r : 사용할 원소 리스트 중 몇 개를 뽑을 지 결정하는 변수\n",
    "idx : 고른 숫자를 저장할 위치 변수\n",
    "result : 고른 숫자를 저장할 리스트\n",
    "result_list : n개의 원소 중 r개를 선택해 새로운 리스트를 다 만들었을 때 그 결과를 저장할 리스트\n",
    "\"\"\"\n",
    "def permutationWithRepetitionByRecursive(n, li, r, idx = 0, result = None, result_list = None):\n",
    "    if result is None:\n",
    "        result = [0] * r\n",
    "        \n",
    "    if result_list is None:\n",
    "        result_list = []\n",
    "        \n",
    "    if idx == r:\n",
    "        result_list.append(copy.deepcopy(result))\n",
    "        \n",
    "    else:\n",
    "        for i in range(n):\n",
    "            result[idx] = li[i]\n",
    "            permutationWithRepetitionByRecursive(n, li, r, idx + 1, result, result_list)\n",
    "            \n",
    "    return result_list"
   ]
  },
  {
   "cell_type": "code",
   "execution_count": 6,
   "metadata": {},
   "outputs": [
    {
     "name": "stdout",
     "output_type": "stream",
     "text": [
      "[[1, 1], [1, 2], [1, 3], [1, 4], [2, 1], [2, 2], [2, 3], [2, 4], [3, 1], [3, 2], [3, 3], [3, 4], [4, 1], [4, 2], [4, 3], [4, 4]]\n"
     ]
    }
   ],
   "source": [
    "val = [1, 2, 3, 4]\n",
    "n = len(val)\n",
    "r = 2\n",
    "\n",
    "print(permutationWithRepetitionByRecursive(n, val, r))"
   ]
  },
  {
   "cell_type": "code",
   "execution_count": 7,
   "metadata": {},
   "outputs": [
    {
     "ename": "ValueError",
     "evalue": "not enough values to unpack (expected 2, got 0)",
     "output_type": "error",
     "traceback": [
      "\u001b[1;31m---------------------------------------------------------------------------\u001b[0m",
      "\u001b[1;31mValueError\u001b[0m                                Traceback (most recent call last)",
      "\u001b[1;32m<ipython-input-7-dbcdafa3e277>\u001b[0m in \u001b[0;36m<module>\u001b[1;34m\u001b[0m\n\u001b[0;32m     21\u001b[0m \u001b[1;33m\u001b[0m\u001b[0m\n\u001b[0;32m     22\u001b[0m \u001b[1;33m\u001b[0m\u001b[0m\n\u001b[1;32m---> 23\u001b[1;33m \u001b[0mn_and_m\u001b[0m\u001b[1;33m(\u001b[0m\u001b[1;33m)\u001b[0m\u001b[1;33m\u001b[0m\u001b[1;33m\u001b[0m\u001b[0m\n\u001b[0m",
      "\u001b[1;32m<ipython-input-7-dbcdafa3e277>\u001b[0m in \u001b[0;36mn_and_m\u001b[1;34m()\u001b[0m\n\u001b[0;32m     14\u001b[0m             \u001b[0mresult\u001b[0m\u001b[1;33m.\u001b[0m\u001b[0mpop\u001b[0m\u001b[1;33m(\u001b[0m\u001b[1;33m)\u001b[0m\u001b[1;33m\u001b[0m\u001b[1;33m\u001b[0m\u001b[0m\n\u001b[0;32m     15\u001b[0m \u001b[1;33m\u001b[0m\u001b[0m\n\u001b[1;32m---> 16\u001b[1;33m     \u001b[0mn\u001b[0m\u001b[1;33m,\u001b[0m \u001b[0mm\u001b[0m \u001b[1;33m=\u001b[0m \u001b[0mmap\u001b[0m\u001b[1;33m(\u001b[0m\u001b[0mint\u001b[0m\u001b[1;33m,\u001b[0m \u001b[0mstdin\u001b[0m\u001b[1;33m.\u001b[0m\u001b[0mreadline\u001b[0m\u001b[1;33m(\u001b[0m\u001b[1;33m)\u001b[0m\u001b[1;33m.\u001b[0m\u001b[0mrstrip\u001b[0m\u001b[1;33m(\u001b[0m\u001b[1;33m)\u001b[0m\u001b[1;33m.\u001b[0m\u001b[0msplit\u001b[0m\u001b[1;33m(\u001b[0m\u001b[1;33m)\u001b[0m\u001b[1;33m)\u001b[0m\u001b[1;33m\u001b[0m\u001b[1;33m\u001b[0m\u001b[0m\n\u001b[0m\u001b[0;32m     17\u001b[0m \u001b[1;33m\u001b[0m\u001b[0m\n\u001b[0;32m     18\u001b[0m     \u001b[0marr\u001b[0m \u001b[1;33m=\u001b[0m \u001b[1;33m[\u001b[0m\u001b[0mi\u001b[0m \u001b[1;33m+\u001b[0m \u001b[1;36m1\u001b[0m \u001b[1;32mfor\u001b[0m \u001b[0mi\u001b[0m \u001b[1;32min\u001b[0m \u001b[0mrange\u001b[0m\u001b[1;33m(\u001b[0m\u001b[0mn\u001b[0m\u001b[1;33m)\u001b[0m\u001b[1;33m]\u001b[0m\u001b[1;33m\u001b[0m\u001b[1;33m\u001b[0m\u001b[0m\n",
      "\u001b[1;31mValueError\u001b[0m: not enough values to unpack (expected 2, got 0)"
     ]
    }
   ],
   "source": [
    "# 공부해\n",
    "\n",
    "from sys import stdin\n",
    "\n",
    "\n",
    "def n_and_m():\n",
    "    def dfs(depth):\n",
    "        if depth == m:\n",
    "            print(f'{\" \".join(result)}')\n",
    "            return\n",
    "        for i in arr:\n",
    "            result.append(str(i))\n",
    "            dfs(depth+1)\n",
    "            result.pop()\n",
    "\n",
    "    n, m = map(int, stdin.readline().rstrip().split())\n",
    "\n",
    "    arr = [i + 1 for i in range(n)]\n",
    "    result = []\n",
    "    dfs(0)\n",
    "\n",
    "\n",
    "n_and_m()"
   ]
  },
  {
   "cell_type": "markdown",
   "metadata": {},
   "source": [
    "# 조합(Combination)"
   ]
  },
  {
   "cell_type": "markdown",
   "metadata": {},
   "source": [
    "n개의 원소를 가지는 집합에서 **순서에 상관없이** r개를 **중복없이** 선택하는 것이다."
   ]
  },
  {
   "cell_type": "markdown",
   "metadata": {},
   "source": [
    "$$ {}_{n}\\mathrm{C}_{r} = {{n} \\choose {r}} = {{n!}\\over{(n-r!)r!}} = {{{}_{n}\\mathrm{P}_{r}} \\over {r!}} $$"
   ]
  },
  {
   "cell_type": "code",
   "execution_count": null,
   "metadata": {},
   "outputs": [],
   "source": [
    "import copy\n",
    "\n",
    "\n",
    "\"\"\"\n",
    "n : 사용할 원소 리스트 길이 변수\n",
    "li : 사용할 원소 리스트\n",
    "r : 사용할 원소 리스트 중 몇 개를 뽑을 지 결정하는 변수\n",
    "idx : 고른 숫자를 저장할 위치 변수\n",
    "selectidx : 원소 리스트 내의 수를 가리킴(그 수를 쓸 지 안쓸지는 함수 내에서 결정)\n",
    "result : 고른 숫자를 저장할 위치 변수\n",
    "result_list : n개의 원소 중 r개를 선택해 새로운 리스트를 다 만들었을 때 그 결과를 저장할 리스트\n",
    "\"\"\"\n",
    "def combinationByRecursive(n, li, r, idx = 0, selectidx = 0, result = None, result_list = []):\n",
    "    if result is None:\n",
    "        result = [0] * r\n",
    "    if result_list is None:\n",
    "        result_list = []\n",
    "    if idx == r:\n",
    "        result_list.append(copy.deepcopy(result))\n",
    "    elif selectidx >= n:\n",
    "        return\n",
    "    else:\n",
    "        combinationByRecursive(n, li, r, idx, selectidx + 1, result, result_list)\n",
    "        result[idx] = li[selectidx]\n",
    "        \n",
    "        combinationByRecursive(n, li, r, idx + 1, selectidx + 1, result, result_list)\n",
    "    \n",
    "    return result_list"
   ]
  },
  {
   "cell_type": "code",
   "execution_count": null,
   "metadata": {},
   "outputs": [],
   "source": [
    "val = [1, 2, 3, 4]\n",
    "n = len(val)\n",
    "r = 3\n",
    "\n",
    "for i in combinationByRecursive(n, val, r)[::-1]:\n",
    "    answer = list(map(str, i))\n",
    "    print(' '.join(answer))"
   ]
  },
  {
   "cell_type": "markdown",
   "metadata": {},
   "source": [
    "# 중복조합"
   ]
  },
  {
   "cell_type": "markdown",
   "metadata": {},
   "source": [
    "n개의 원소를 가지는 집합에서 **순서에 상관없이** r개를 **중복 허용하여** 선택하는 것이다."
   ]
  },
  {
   "cell_type": "markdown",
   "metadata": {},
   "source": [
    "$$ {}_{n}\\mathrm{H}_{r} = \\left({n \\choose r} \\right) = {}_{r + (n - 1)}\\mathrm{C}_{r} = {}_{n + r - 1}\\mathrm{C}_{n - 1} = {{(n+r-1)!} \\over {(n - 1)!r!}} $$"
   ]
  },
  {
   "cell_type": "code",
   "execution_count": null,
   "metadata": {},
   "outputs": [],
   "source": [
    "import copy\n",
    "\n",
    "\"\"\"\n",
    "n : 사용할 원소 리스트 길이 변수\n",
    "li : 사용할 원소 리스트\n",
    "r : 사용할 원소 리스트 중 몇 개를 뽑을 지 결정하는 변수\n",
    "idx : 고른 숫자를 저장할 위치 변수\n",
    "result : 고른 숫자를 저장할 위치 변수\n",
    "result_list : n개의 원소 중 r개를 선택해 새로운 리스트를 다 만들었을 때 그 결과를 저장할 리스트\n",
    "\"\"\"\n",
    "\n",
    "\n",
    "def combinationWithRepetitionByRecursive(n, li, r, idx=0, selectidx=0, result=None, result_list=None):\n",
    "    if result is None:\n",
    "        result = [0] * (n - 1)\n",
    "    if result_list is None:\n",
    "        result_list = []\n",
    "    if idx == (n - 1):\n",
    "        changeidx = 0\n",
    "        temp = []\n",
    "\n",
    "        for i in range(r + n - 1):\n",
    "            if i in result:\n",
    "                changeidx += 1\n",
    "            else:\n",
    "                temp.append(li[changeidx])\n",
    "\n",
    "        result_list.append(copy.deepcopy(temp))\n",
    "\n",
    "    elif selectidx >= (r + n - 1):\n",
    "        return\n",
    "    else:\n",
    "\n",
    "        combinationWithRepetitionByRecursive(n, li, r, idx, selectidx + 1, result, result_list)\n",
    "        result[idx] = selectidx\n",
    "        combinationWithRepetitionByRecursive(n, li, r, idx + 1, selectidx + 1, result, result_list)\n",
    "\n",
    "    return result_list"
   ]
  },
  {
   "cell_type": "code",
   "execution_count": null,
   "metadata": {
    "scrolled": true
   },
   "outputs": [],
   "source": [
    "val = [1, 2]\n",
    "n = 2\n",
    "r = 3\n",
    "\n",
    "print(combinationWithRepetitionByRecursive(n, val, r))"
   ]
  },
  {
   "cell_type": "code",
   "execution_count": null,
   "metadata": {},
   "outputs": [],
   "source": []
  }
 ],
 "metadata": {
  "kernelspec": {
   "display_name": "Python 3",
   "language": "python",
   "name": "python3"
  },
  "language_info": {
   "codemirror_mode": {
    "name": "ipython",
    "version": 3
   },
   "file_extension": ".py",
   "mimetype": "text/x-python",
   "name": "python",
   "nbconvert_exporter": "python",
   "pygments_lexer": "ipython3",
   "version": "3.9.1"
  }
 },
 "nbformat": 4,
 "nbformat_minor": 4
}
